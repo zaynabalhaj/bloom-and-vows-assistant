{
  "cells": [
    {
      "cell_type": "markdown",
      "source": [
        "### Assignment Objective\n",
        "This assignment demonstrates a personal chatbot assistant for **Bloom & Vows Floral Wedding**.\n",
        "\n",
        "The chatbot can interact with clients, answer questions about services, packages, pricing, and contact information, and record leads.\n",
        "\n",
        "It uses two key documents to understand the business:\n",
        "\n",
        "**Business Profile (PDF)** that contains all details about Bloom & Vows, including services, packages, pricing, and contact info.\n",
        "\n",
        "**Business Summary (Text File)** that provides a concise overview of the business and its unique offerings.\n",
        "\n",
        "The chatbot also uses two tools:\n",
        "\n",
        "**record_customer_interest** used to save client names, emails, and notes to a CSV.\n",
        "\n",
        "**record_feedback** used to log any questions the chatbot cannot answer for later review.\n",
        "\n",
        "With these, the chatbot acts as a knowledgeable digital assistant for the business."
      ],
      "metadata": {
        "id": "mHX6FWv_ds1i"
      },
      "id": "mHX6FWv_ds1i"
    },
    {
      "cell_type": "markdown",
      "source": [
        "### 1. Install Dependencies"
      ],
      "metadata": {
        "id": "P-xWPRw1abrS"
      },
      "id": "P-xWPRw1abrS"
    },
    {
      "cell_type": "code",
      "execution_count": 23,
      "id": "25a7b5e2",
      "metadata": {
        "vscode": {
          "languageId": "plaintext"
        },
        "colab": {
          "base_uri": "https://localhost:8080/"
        },
        "collapsed": true,
        "id": "25a7b5e2",
        "outputId": "d3674c05-cbf8-48e0-f3fb-8953209d38e5"
      },
      "outputs": [
        {
          "output_type": "stream",
          "name": "stdout",
          "text": [
            "Requirement already satisfied: google-generativeai in /usr/local/lib/python3.12/dist-packages (0.8.5)\n",
            "Requirement already satisfied: gradio in /usr/local/lib/python3.12/dist-packages (5.49.0)\n",
            "Requirement already satisfied: python-dotenv in /usr/local/lib/python3.12/dist-packages (1.1.1)\n",
            "Requirement already satisfied: PyPDF2 in /usr/local/lib/python3.12/dist-packages (3.0.1)\n",
            "Requirement already satisfied: pandas in /usr/local/lib/python3.12/dist-packages (2.2.2)\n",
            "Requirement already satisfied: google-ai-generativelanguage==0.6.15 in /usr/local/lib/python3.12/dist-packages (from google-generativeai) (0.6.15)\n",
            "Requirement already satisfied: google-api-core in /usr/local/lib/python3.12/dist-packages (from google-generativeai) (2.25.2)\n",
            "Requirement already satisfied: google-api-python-client in /usr/local/lib/python3.12/dist-packages (from google-generativeai) (2.184.0)\n",
            "Requirement already satisfied: google-auth>=2.15.0 in /usr/local/lib/python3.12/dist-packages (from google-generativeai) (2.38.0)\n",
            "Requirement already satisfied: protobuf in /usr/local/lib/python3.12/dist-packages (from google-generativeai) (5.29.5)\n",
            "Requirement already satisfied: pydantic in /usr/local/lib/python3.12/dist-packages (from google-generativeai) (2.11.10)\n",
            "Requirement already satisfied: tqdm in /usr/local/lib/python3.12/dist-packages (from google-generativeai) (4.67.1)\n",
            "Requirement already satisfied: typing-extensions in /usr/local/lib/python3.12/dist-packages (from google-generativeai) (4.15.0)\n",
            "Requirement already satisfied: proto-plus<2.0.0dev,>=1.22.3 in /usr/local/lib/python3.12/dist-packages (from google-ai-generativelanguage==0.6.15->google-generativeai) (1.26.1)\n",
            "Requirement already satisfied: aiofiles<25.0,>=22.0 in /usr/local/lib/python3.12/dist-packages (from gradio) (24.1.0)\n",
            "Requirement already satisfied: anyio<5.0,>=3.0 in /usr/local/lib/python3.12/dist-packages (from gradio) (4.11.0)\n",
            "Requirement already satisfied: brotli>=1.1.0 in /usr/local/lib/python3.12/dist-packages (from gradio) (1.1.0)\n",
            "Requirement already satisfied: fastapi<1.0,>=0.115.2 in /usr/local/lib/python3.12/dist-packages (from gradio) (0.118.2)\n",
            "Requirement already satisfied: ffmpy in /usr/local/lib/python3.12/dist-packages (from gradio) (0.6.2)\n",
            "Requirement already satisfied: gradio-client==1.13.3 in /usr/local/lib/python3.12/dist-packages (from gradio) (1.13.3)\n",
            "Requirement already satisfied: groovy~=0.1 in /usr/local/lib/python3.12/dist-packages (from gradio) (0.1.2)\n",
            "Requirement already satisfied: httpx<1.0,>=0.24.1 in /usr/local/lib/python3.12/dist-packages (from gradio) (0.28.1)\n",
            "Requirement already satisfied: huggingface-hub<2.0,>=0.33.5 in /usr/local/lib/python3.12/dist-packages (from gradio) (0.35.3)\n",
            "Requirement already satisfied: jinja2<4.0 in /usr/local/lib/python3.12/dist-packages (from gradio) (3.1.6)\n",
            "Requirement already satisfied: markupsafe<4.0,>=2.0 in /usr/local/lib/python3.12/dist-packages (from gradio) (3.0.3)\n",
            "Requirement already satisfied: numpy<3.0,>=1.0 in /usr/local/lib/python3.12/dist-packages (from gradio) (2.0.2)\n",
            "Requirement already satisfied: orjson~=3.0 in /usr/local/lib/python3.12/dist-packages (from gradio) (3.11.3)\n",
            "Requirement already satisfied: packaging in /usr/local/lib/python3.12/dist-packages (from gradio) (25.0)\n",
            "Requirement already satisfied: pillow<12.0,>=8.0 in /usr/local/lib/python3.12/dist-packages (from gradio) (11.3.0)\n",
            "Requirement already satisfied: pydub in /usr/local/lib/python3.12/dist-packages (from gradio) (0.25.1)\n",
            "Requirement already satisfied: python-multipart>=0.0.18 in /usr/local/lib/python3.12/dist-packages (from gradio) (0.0.20)\n",
            "Requirement already satisfied: pyyaml<7.0,>=5.0 in /usr/local/lib/python3.12/dist-packages (from gradio) (6.0.3)\n",
            "Requirement already satisfied: ruff>=0.9.3 in /usr/local/lib/python3.12/dist-packages (from gradio) (0.14.0)\n",
            "Requirement already satisfied: safehttpx<0.2.0,>=0.1.6 in /usr/local/lib/python3.12/dist-packages (from gradio) (0.1.6)\n",
            "Requirement already satisfied: semantic-version~=2.0 in /usr/local/lib/python3.12/dist-packages (from gradio) (2.10.0)\n",
            "Requirement already satisfied: starlette<1.0,>=0.40.0 in /usr/local/lib/python3.12/dist-packages (from gradio) (0.48.0)\n",
            "Requirement already satisfied: tomlkit<0.14.0,>=0.12.0 in /usr/local/lib/python3.12/dist-packages (from gradio) (0.13.3)\n",
            "Requirement already satisfied: typer<1.0,>=0.12 in /usr/local/lib/python3.12/dist-packages (from gradio) (0.19.2)\n",
            "Requirement already satisfied: uvicorn>=0.14.0 in /usr/local/lib/python3.12/dist-packages (from gradio) (0.37.0)\n",
            "Requirement already satisfied: fsspec in /usr/local/lib/python3.12/dist-packages (from gradio-client==1.13.3->gradio) (2025.3.0)\n",
            "Requirement already satisfied: websockets<16.0,>=13.0 in /usr/local/lib/python3.12/dist-packages (from gradio-client==1.13.3->gradio) (15.0.1)\n",
            "Requirement already satisfied: python-dateutil>=2.8.2 in /usr/local/lib/python3.12/dist-packages (from pandas) (2.9.0.post0)\n",
            "Requirement already satisfied: pytz>=2020.1 in /usr/local/lib/python3.12/dist-packages (from pandas) (2025.2)\n",
            "Requirement already satisfied: tzdata>=2022.7 in /usr/local/lib/python3.12/dist-packages (from pandas) (2025.2)\n",
            "Requirement already satisfied: idna>=2.8 in /usr/local/lib/python3.12/dist-packages (from anyio<5.0,>=3.0->gradio) (3.10)\n",
            "Requirement already satisfied: sniffio>=1.1 in /usr/local/lib/python3.12/dist-packages (from anyio<5.0,>=3.0->gradio) (1.3.1)\n",
            "Requirement already satisfied: googleapis-common-protos<2.0.0,>=1.56.2 in /usr/local/lib/python3.12/dist-packages (from google-api-core->google-generativeai) (1.70.0)\n",
            "Requirement already satisfied: requests<3.0.0,>=2.18.0 in /usr/local/lib/python3.12/dist-packages (from google-api-core->google-generativeai) (2.32.4)\n",
            "Requirement already satisfied: cachetools<6.0,>=2.0.0 in /usr/local/lib/python3.12/dist-packages (from google-auth>=2.15.0->google-generativeai) (5.5.2)\n",
            "Requirement already satisfied: pyasn1-modules>=0.2.1 in /usr/local/lib/python3.12/dist-packages (from google-auth>=2.15.0->google-generativeai) (0.4.2)\n",
            "Requirement already satisfied: rsa<5,>=3.1.4 in /usr/local/lib/python3.12/dist-packages (from google-auth>=2.15.0->google-generativeai) (4.9.1)\n",
            "Requirement already satisfied: certifi in /usr/local/lib/python3.12/dist-packages (from httpx<1.0,>=0.24.1->gradio) (2025.10.5)\n",
            "Requirement already satisfied: httpcore==1.* in /usr/local/lib/python3.12/dist-packages (from httpx<1.0,>=0.24.1->gradio) (1.0.9)\n",
            "Requirement already satisfied: h11>=0.16 in /usr/local/lib/python3.12/dist-packages (from httpcore==1.*->httpx<1.0,>=0.24.1->gradio) (0.16.0)\n",
            "Requirement already satisfied: filelock in /usr/local/lib/python3.12/dist-packages (from huggingface-hub<2.0,>=0.33.5->gradio) (3.20.0)\n",
            "Requirement already satisfied: hf-xet<2.0.0,>=1.1.3 in /usr/local/lib/python3.12/dist-packages (from huggingface-hub<2.0,>=0.33.5->gradio) (1.1.10)\n",
            "Requirement already satisfied: annotated-types>=0.6.0 in /usr/local/lib/python3.12/dist-packages (from pydantic->google-generativeai) (0.7.0)\n",
            "Requirement already satisfied: pydantic-core==2.33.2 in /usr/local/lib/python3.12/dist-packages (from pydantic->google-generativeai) (2.33.2)\n",
            "Requirement already satisfied: typing-inspection>=0.4.0 in /usr/local/lib/python3.12/dist-packages (from pydantic->google-generativeai) (0.4.2)\n",
            "Requirement already satisfied: six>=1.5 in /usr/local/lib/python3.12/dist-packages (from python-dateutil>=2.8.2->pandas) (1.17.0)\n",
            "Requirement already satisfied: click>=8.0.0 in /usr/local/lib/python3.12/dist-packages (from typer<1.0,>=0.12->gradio) (8.3.0)\n",
            "Requirement already satisfied: shellingham>=1.3.0 in /usr/local/lib/python3.12/dist-packages (from typer<1.0,>=0.12->gradio) (1.5.4)\n",
            "Requirement already satisfied: rich>=10.11.0 in /usr/local/lib/python3.12/dist-packages (from typer<1.0,>=0.12->gradio) (13.9.4)\n",
            "Requirement already satisfied: httplib2<1.0.0,>=0.19.0 in /usr/local/lib/python3.12/dist-packages (from google-api-python-client->google-generativeai) (0.31.0)\n",
            "Requirement already satisfied: google-auth-httplib2<1.0.0,>=0.2.0 in /usr/local/lib/python3.12/dist-packages (from google-api-python-client->google-generativeai) (0.2.0)\n",
            "Requirement already satisfied: uritemplate<5,>=3.0.1 in /usr/local/lib/python3.12/dist-packages (from google-api-python-client->google-generativeai) (4.2.0)\n",
            "Requirement already satisfied: grpcio<2.0.0,>=1.33.2 in /usr/local/lib/python3.12/dist-packages (from google-api-core[grpc]!=2.0.*,!=2.1.*,!=2.10.*,!=2.2.*,!=2.3.*,!=2.4.*,!=2.5.*,!=2.6.*,!=2.7.*,!=2.8.*,!=2.9.*,<3.0.0dev,>=1.34.1->google-ai-generativelanguage==0.6.15->google-generativeai) (1.75.1)\n",
            "Requirement already satisfied: grpcio-status<2.0.0,>=1.33.2 in /usr/local/lib/python3.12/dist-packages (from google-api-core[grpc]!=2.0.*,!=2.1.*,!=2.10.*,!=2.2.*,!=2.3.*,!=2.4.*,!=2.5.*,!=2.6.*,!=2.7.*,!=2.8.*,!=2.9.*,<3.0.0dev,>=1.34.1->google-ai-generativelanguage==0.6.15->google-generativeai) (1.71.2)\n",
            "Requirement already satisfied: pyparsing<4,>=3.0.4 in /usr/local/lib/python3.12/dist-packages (from httplib2<1.0.0,>=0.19.0->google-api-python-client->google-generativeai) (3.2.5)\n",
            "Requirement already satisfied: pyasn1<0.7.0,>=0.6.1 in /usr/local/lib/python3.12/dist-packages (from pyasn1-modules>=0.2.1->google-auth>=2.15.0->google-generativeai) (0.6.1)\n",
            "Requirement already satisfied: charset_normalizer<4,>=2 in /usr/local/lib/python3.12/dist-packages (from requests<3.0.0,>=2.18.0->google-api-core->google-generativeai) (3.4.3)\n",
            "Requirement already satisfied: urllib3<3,>=1.21.1 in /usr/local/lib/python3.12/dist-packages (from requests<3.0.0,>=2.18.0->google-api-core->google-generativeai) (2.5.0)\n",
            "Requirement already satisfied: markdown-it-py>=2.2.0 in /usr/local/lib/python3.12/dist-packages (from rich>=10.11.0->typer<1.0,>=0.12->gradio) (4.0.0)\n",
            "Requirement already satisfied: pygments<3.0.0,>=2.13.0 in /usr/local/lib/python3.12/dist-packages (from rich>=10.11.0->typer<1.0,>=0.12->gradio) (2.19.2)\n",
            "Requirement already satisfied: mdurl~=0.1 in /usr/local/lib/python3.12/dist-packages (from markdown-it-py>=2.2.0->rich>=10.11.0->typer<1.0,>=0.12->gradio) (0.1.2)\n"
          ]
        }
      ],
      "source": [
        "!pip install google-generativeai gradio python-dotenv pypdf pandas"
      ]
    },
    {
      "cell_type": "markdown",
      "source": [
        "### 2. Import Libraries"
      ],
      "metadata": {
        "id": "Co_ybqRUalKd"
      },
      "id": "Co_ybqRUalKd"
    },
    {
      "cell_type": "code",
      "execution_count": 25,
      "id": "c9f81ed9",
      "metadata": {
        "vscode": {
          "languageId": "plaintext"
        },
        "id": "c9f81ed9"
      },
      "outputs": [],
      "source": [
        "from openai import OpenAI\n",
        "import json\n",
        "import os\n",
        "import requests\n",
        "from pypdf import PdfReader\n",
        "import gradio as gr\n",
        "import pandas as pd\n",
        "from datetime import datetime\n",
        "from dotenv import load_dotenv"
      ]
    },
    {
      "cell_type": "markdown",
      "source": [
        "###3. Load Google API Key"
      ],
      "metadata": {
        "id": "EGwmGLD-fbsz"
      },
      "id": "EGwmGLD-fbsz"
    },
    {
      "cell_type": "code",
      "execution_count": 56,
      "id": "a733815b",
      "metadata": {
        "vscode": {
          "languageId": "plaintext"
        },
        "id": "a733815b"
      },
      "outputs": [],
      "source": [
        "load_dotenv(\".env\")\n",
        "google_api_key = os.getenv(\"OPENAI_API_KEY\")"
      ]
    },
    {
      "cell_type": "code",
      "source": [
        "gemini = OpenAI(api_key=google_api_key, base_url=\"https://generativelanguage.googleapis.com/v1beta/openai/\")\n",
        "model_name = \"gemini-2.0-flash\""
      ],
      "metadata": {
        "id": "gTESNszsj-Eg"
      },
      "id": "gTESNszsj-Eg",
      "execution_count": 50,
      "outputs": []
    },
    {
      "cell_type": "markdown",
      "source": [
        "### 4. Define Tools"
      ],
      "metadata": {
        "id": "X2JrBczcar2g"
      },
      "id": "X2JrBczcar2g"
    },
    {
      "cell_type": "code",
      "execution_count": 27,
      "id": "59e7fcba",
      "metadata": {
        "vscode": {
          "languageId": "plaintext"
        },
        "id": "59e7fcba"
      },
      "outputs": [],
      "source": [
        "LEADS_FILE = \"leads.csv\"\n",
        "FEEDBACK_FILE = \"feedback.csv\"\n",
        "\n",
        "\n",
        "def record_customer_interest(name: str, email: str, message: str) -> str:\n",
        "    \"\"\"Logs customer interest to a CSV file.\"\"\"\n",
        "\n",
        "    # Default unknown fields if missing\n",
        "    name = name.strip() if name else \"Unknown\"\n",
        "    email = email.strip() if email else \"Unknown\"\n",
        "    message = message.strip() if message else \"No message provided\"\n",
        "\n",
        "    # Prepare new lead row\n",
        "    new_lead = {\n",
        "        \"timestamp\": datetime.now().isoformat(),\n",
        "        \"name\": name,\n",
        "        \"email\": email,\n",
        "        \"message\": message\n",
        "    }\n",
        "\n",
        "    # Append to CSV\n",
        "    if not os.path.exists(LEADS_FILE):\n",
        "        df = pd.DataFrame([new_lead])\n",
        "        df.to_csv(LEADS_FILE, index=False)\n",
        "    else:\n",
        "        df = pd.read_csv(LEADS_FILE)\n",
        "        df = pd.concat([df, pd.DataFrame([new_lead])], ignore_index=True)\n",
        "        df.to_csv(LEADS_FILE, index=False)\n",
        "\n",
        "    return f\"Thank you {name}! We'll contact you soon.\"\n",
        "\n",
        "def record_feedback(question: str) -> str:\n",
        "    \"\"\"Logs unknown questions to a CSV file for later review.\"\"\"\n",
        "\n",
        "    question = question.strip() if question else \"Empty question\"\n",
        "\n",
        "    new_feedback = {\n",
        "        \"timestamp\": datetime.now().isoformat(),\n",
        "        \"question\": question\n",
        "    }\n",
        "\n",
        "    # Append to CSV\n",
        "    if not os.path.exists(FEEDBACK_FILE):\n",
        "        df = pd.DataFrame([new_feedback])\n",
        "        df.to_csv(FEEDBACK_FILE, index=False)\n",
        "    else:\n",
        "        df = pd.read_csv(FEEDBACK_FILE)\n",
        "        df = pd.concat([df, pd.DataFrame([new_feedback])], ignore_index=True)\n",
        "        df.to_csv(FEEDBACK_FILE, index=False)\n",
        "\n",
        "    return \"Thank you! We've logged your question and will review it soon.\"\n"
      ]
    },
    {
      "cell_type": "code",
      "execution_count": 47,
      "id": "2e399dbd",
      "metadata": {
        "vscode": {
          "languageId": "plaintext"
        },
        "id": "2e399dbd"
      },
      "outputs": [],
      "source": [
        "record_customer_interest_json = {\n",
        "    \"name\": \"record_customer_interest\",\n",
        "    \"description\": \"Use this tool to record that a user is interested in being in touch and provided an email address\",\n",
        "    \"parameters\": {\n",
        "        \"type\": \"object\",\n",
        "        \"properties\": {\n",
        "            \"email\": {\n",
        "                \"type\": \"string\",\n",
        "                \"description\": \"The email address of this user\"\n",
        "            },\n",
        "            \"name\": {\n",
        "                \"type\": \"string\",\n",
        "                \"description\": \"The user's name, if they provided it\"\n",
        "            },\n",
        "            \"message\": {\n",
        "                \"type\": \"string\",\n",
        "                \"description\": \"Any additional information about the conversation that's worth recording to give context\"\n",
        "            }\n",
        "        },\n",
        "        \"required\": [\"email\"],\n",
        "        \"additionalProperties\": False\n",
        "    }\n",
        "}\n"
      ]
    },
    {
      "cell_type": "code",
      "execution_count": 29,
      "id": "fbe45190",
      "metadata": {
        "vscode": {
          "languageId": "plaintext"
        },
        "id": "fbe45190"
      },
      "outputs": [],
      "source": [
        "record_feedback_json = {\n",
        "    \"name\": \"record_feedback\",\n",
        "    \"description\": \"Use this tool when the bot does not know the answer to a user's question. Logs the question for review.\",\n",
        "    \"parameters\": {\n",
        "        \"type\": \"object\",\n",
        "        \"properties\": {\n",
        "            \"question\": {\n",
        "                \"type\": \"string\",\n",
        "                \"description\": \"The question the user asked that the bot could not answer\"\n",
        "            },\n",
        "            \"context\": {\n",
        "                \"type\": \"string\",\n",
        "                \"description\": \"Optional context from the conversation that could help later in understanding the question\"\n",
        "            }\n",
        "        },\n",
        "        \"required\": [\"question\"],\n",
        "        \"additionalProperties\": False\n",
        "    }\n",
        "}\n"
      ]
    },
    {
      "cell_type": "code",
      "execution_count": 48,
      "id": "21fde54d",
      "metadata": {
        "vscode": {
          "languageId": "plaintext"
        },
        "colab": {
          "base_uri": "https://localhost:8080/"
        },
        "id": "21fde54d",
        "outputId": "196374b5-9b6d-4410-d646-9d815214e9dd"
      },
      "outputs": [
        {
          "output_type": "stream",
          "name": "stdout",
          "text": [
            "✅ Tools configured for model function-calling:\n",
            "[\n",
            "  {\n",
            "    \"type\": \"function\",\n",
            "    \"function\": {\n",
            "      \"name\": \"record_customer_interest\",\n",
            "      \"description\": \"Use this tool to record that a user is interested in being in touch and provided an email address\",\n",
            "      \"parameters\": {\n",
            "        \"type\": \"object\",\n",
            "        \"properties\": {\n",
            "          \"email\": {\n",
            "            \"type\": \"string\",\n",
            "            \"description\": \"The email address of this user\"\n",
            "          },\n",
            "          \"name\": {\n",
            "            \"type\": \"string\",\n",
            "            \"description\": \"The user's name, if they provided it\"\n",
            "          },\n",
            "          \"message\": {\n",
            "            \"type\": \"string\",\n",
            "            \"description\": \"Any additional information about the conversation that's worth recording to give context\"\n",
            "          }\n",
            "        },\n",
            "        \"required\": [\n",
            "          \"email\"\n",
            "        ],\n",
            "        \"additionalProperties\": false\n",
            "      }\n",
            "    }\n",
            "  },\n",
            "  {\n",
            "    \"type\": \"function\",\n",
            "    \"function\": {\n",
            "      \"name\": \"record_feedback\",\n",
            "      \"description\": \"Use this tool when the bot does not know the answer to a user's question. Logs the question for review.\",\n",
            "      \"parameters\": {\n",
            "        \"type\": \"object\",\n",
            "        \"properties\": {\n",
            "          \"question\": {\n",
            "            \"type\": \"string\",\n",
            "            \"description\": \"The question the user asked that the bot could not answer\"\n",
            "          },\n",
            "          \"context\": {\n",
            "            \"type\": \"string\",\n",
            "            \"description\": \"Optional context from the conversation that could help later in understanding the question\"\n",
            "          }\n",
            "        },\n",
            "        \"required\": [\n",
            "          \"question\"\n",
            "        ],\n",
            "        \"additionalProperties\": false\n",
            "      }\n",
            "    }\n",
            "  }\n",
            "]\n"
          ]
        }
      ],
      "source": [
        "tools = [{\"type\": \"function\",\"function\": record_customer_interest_json},\n",
        "        {\"type\": \"function\",\"function\": record_feedback_json}]"
      ]
    },
    {
      "cell_type": "markdown",
      "source": [
        "### 7. Handling Tool Callings"
      ],
      "metadata": {
        "id": "DTyxS4rcbi2l"
      },
      "id": "DTyxS4rcbi2l"
    },
    {
      "cell_type": "code",
      "execution_count": 49,
      "id": "cee4cd5d",
      "metadata": {
        "vscode": {
          "languageId": "plaintext"
        },
        "id": "cee4cd5d"
      },
      "outputs": [],
      "source": [
        "def handle_tool_calls(tool_calls):\n",
        "    \"\"\"\n",
        "    Execute any tool call returned by the model dynamically.\n",
        "\n",
        "    Args:\n",
        "        tool_calls: List of tool call objects returned by Gemini\n",
        "\n",
        "    Returns:\n",
        "        List of dictionaries with results from each tool call\n",
        "    \"\"\"\n",
        "    results = []\n",
        "\n",
        "    for tool_call in tool_calls:\n",
        "        # Extract tool name and arguments\n",
        "        tool_name = tool_call.function.name  # e.g., \"record_customer_interest\"\n",
        "        arguments = json.loads(tool_call.function.arguments)  # convert JSON string to dict\n",
        "        print(f\"Tool called: {tool_name} with args {arguments}\", flush=True)\n",
        "\n",
        "        # Dynamically get the Python function from globals()\n",
        "        tool_function = globals().get(tool_name)\n",
        "        if tool_function:\n",
        "            result = tool_function(**arguments)\n",
        "            print(\"Function called\")\n",
        "        else:\n",
        "            result = {\"error\": f\"No function found for {tool_name}\"}\n",
        "\n",
        "        # Append structured result\n",
        "        results.append({\n",
        "            \"role\": \"tool\",\n",
        "            \"content\": json.dumps(result),\n",
        "            \"tool_call_id\": getattr(tool_call, \"id\", None)\n",
        "        })\n",
        "\n",
        "    return results\n"
      ]
    },
    {
      "cell_type": "markdown",
      "source": [
        "### 8. Load Business Documents\n",
        "\n",
        "**Business Profile (PDF)**\n",
        "\n",
        "This file contains all the information about Bloom & Vows Floral Wedding, including packages, services, pricing, and contact details (email, phone, etc.).\n",
        "\n",
        "**Business Summary (Text File)**\n",
        "\n",
        "This file contains a short summary of the business, highlighting key points such as the creation of personalized floral arrangements, signature wedding styles, and overall brand overview."
      ],
      "metadata": {
        "id": "xH0VwwRUcjDB"
      },
      "id": "xH0VwwRUcjDB"
    },
    {
      "cell_type": "code",
      "execution_count": 32,
      "id": "6310b104",
      "metadata": {
        "vscode": {
          "languageId": "plaintext"
        },
        "id": "6310b104"
      },
      "outputs": [],
      "source": [
        "reader = PdfReader(\"about_business.pdf\")\n",
        "business = \"\"\n",
        "for page in reader.pages:\n",
        "    text = page.extract_text()\n",
        "    if text:\n",
        "        business += text\n",
        "\n",
        "with open(\"summary.txt\", \"r\", encoding=\"utf-8\") as f:  # summary path\n",
        "    summary = f.read()\n",
        "\n",
        "name = \"Zaynab\" #your name"
      ]
    },
    {
      "cell_type": "markdown",
      "source": [
        "### 8. System Prompt"
      ],
      "metadata": {
        "id": "hxFWtuHRd0b-"
      },
      "id": "hxFWtuHRd0b-"
    },
    {
      "cell_type": "code",
      "execution_count": 33,
      "id": "ef544b65",
      "metadata": {
        "vscode": {
          "languageId": "plaintext"
        },
        "id": "ef544b65"
      },
      "outputs": [],
      "source": [
        "system_prompt = f\"\"\"\n",
        "You are acting as Bloom & Vows Floral Wedding. You are answering questions on the Bloom & Vows website,\n",
        "particularly questions related to the business, services, team, mission, and offerings.\n",
        "Your responsibility is to represent Bloom & Vows faithfully for interactions with potential clients.\n",
        "You are given a summary of the business and the full business profile which you can use to answer questions.\n",
        "Be professional, warm, and engaging, as if talking to a potential client planning their wedding.\n",
        "If you don't know the answer to any question, use your record_feedback tool to record the question that you couldn't answer,\n",
        "even if it's about something trivial or unrelated to weddings.\n",
        "If the user is engaging in discussion, try to steer them towards leaving their contact info;\n",
        "ask for their name and email, and record it using your record_customer_interest tool.\n",
        "\"\"\"\n",
        "\n",
        "# Append the business summary and full PDF text\n",
        "system_prompt += f\"\\n\\n## Business Summary:\\n{summary}\\n\\n## Full Business Profile:\\n{business}\\n\\n\"\n",
        "system_prompt += \"With this context, please chat with the user, always staying in character as Bloom & Vows Floral Wedding.\"\n"
      ]
    },
    {
      "cell_type": "markdown",
      "source": [
        "### 9. Chat Function (with Tool Support)"
      ],
      "metadata": {
        "id": "Fnrr4QFGd8YW"
      },
      "id": "Fnrr4QFGd8YW"
    },
    {
      "cell_type": "code",
      "execution_count": 51,
      "id": "2c33a51c",
      "metadata": {
        "vscode": {
          "languageId": "plaintext"
        },
        "id": "2c33a51c"
      },
      "outputs": [],
      "source": [
        "def chat(message, history):\n",
        "    messages = [{\"role\": \"system\", \"content\": system_prompt}] + history + [{\"role\": \"user\", \"content\": message}]\n",
        "    done = False\n",
        "    while not done:\n",
        "\n",
        "        # This is the call to the LLM - see that we pass in the tools json\n",
        "\n",
        "        response = gemini.chat.completions.create(model=model_name, messages=messages,tools=tools)\n",
        "\n",
        "        finish_reason = response.choices[0].finish_reason\n",
        "\n",
        "        # Handle when the LLM wants to call a tool\n",
        "\n",
        "        if finish_reason==\"tool_calls\":\n",
        "            message = response.choices[0].message\n",
        "            tool_calls = message.tool_calls\n",
        "            results = handle_tool_calls(tool_calls)\n",
        "            messages.append(message)\n",
        "            messages.extend(results)\n",
        "        else:\n",
        "            done = True\n",
        "    return response.choices[0].message.content"
      ]
    },
    {
      "cell_type": "markdown",
      "source": [
        "### 10. Launch Interface"
      ],
      "metadata": {
        "id": "RcZGxbrpg0-7"
      },
      "id": "RcZGxbrpg0-7"
    },
    {
      "cell_type": "code",
      "execution_count": 37,
      "id": "d004f9a9",
      "metadata": {
        "vscode": {
          "languageId": "plaintext"
        },
        "colab": {
          "base_uri": "https://localhost:8080/",
          "height": 646
        },
        "id": "d004f9a9",
        "outputId": "3a24772f-9912-4ef3-847d-f2a834c0902b"
      },
      "outputs": [
        {
          "output_type": "stream",
          "name": "stdout",
          "text": [
            "It looks like you are running Gradio on a hosted Jupyter notebook, which requires `share=True`. Automatically setting `share=True` (you can turn this off by setting `share=False` in `launch()` explicitly).\n",
            "\n",
            "Colab notebook detected. To show errors in colab notebook, set debug=True in launch()\n",
            "* Running on public URL: https://f656fb6956a210b4ba.gradio.live\n",
            "\n",
            "This share link expires in 1 week. For free permanent hosting and GPU upgrades, run `gradio deploy` from the terminal in the working directory to deploy to Hugging Face Spaces (https://huggingface.co/spaces)\n"
          ]
        },
        {
          "output_type": "display_data",
          "data": {
            "text/plain": [
              "<IPython.core.display.HTML object>"
            ],
            "text/html": [
              "<div><iframe src=\"https://f656fb6956a210b4ba.gradio.live\" width=\"100%\" height=\"500\" allow=\"autoplay; camera; microphone; clipboard-read; clipboard-write;\" frameborder=\"0\" allowfullscreen></iframe></div>"
            ]
          },
          "metadata": {}
        },
        {
          "output_type": "execute_result",
          "data": {
            "text/plain": []
          },
          "metadata": {},
          "execution_count": 37
        }
      ],
      "source": [
        "gr.ChatInterface(chat, type=\"messages\").launch()"
      ]
    }
  ],
  "metadata": {
    "language_info": {
      "name": "python"
    },
    "colab": {
      "provenance": []
    },
    "kernelspec": {
      "name": "python3",
      "display_name": "Python 3"
    }
  },
  "nbformat": 4,
  "nbformat_minor": 5
}